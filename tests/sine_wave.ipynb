{
 "cells": [
  {
   "cell_type": "code",
   "execution_count": 2,
   "metadata": {},
   "outputs": [],
   "source": [
    "import numpy as np"
   ]
  },
  {
   "cell_type": "code",
   "execution_count": 3,
   "metadata": {},
   "outputs": [],
   "source": [
    "import soundfile as sf"
   ]
  },
  {
   "cell_type": "code",
   "execution_count": 4,
   "metadata": {},
   "outputs": [],
   "source": [
    "from scipy import signal"
   ]
  },
  {
   "cell_type": "code",
   "execution_count": 5,
   "metadata": {},
   "outputs": [
    {
     "name": "stdout",
     "output_type": "stream",
     "text": [
      "480\n"
     ]
    }
   ],
   "source": [
    "FRAME_TIME = 10e-3\n",
    "SAMPLE_RATE = int(48000)\n",
    "FRAME_SIZE = int(FRAME_TIME * SAMPLE_RATE)\n",
    "\n",
    "print(FRAME_SIZE)"
   ]
  },
  {
   "cell_type": "code",
   "execution_count": 6,
   "metadata": {},
   "outputs": [],
   "source": [
    "duration = 1\n",
    "amplitude = 1\n",
    "frequency = 440\n",
    "total_size = int(SAMPLE_RATE * duration)\n",
    "step = int(0.5 * FRAME_SIZE)\n",
    "step_qty = int((total_size - FRAME_SIZE) / step)"
   ]
  },
  {
   "cell_type": "code",
   "execution_count": 7,
   "metadata": {},
   "outputs": [],
   "source": [
    "data = np.zeros(total_size, dtype=np.float32)\n",
    "for i in range(step_qty):\n",
    "    excitation_time = np.arange(FRAME_SIZE) / SAMPLE_RATE + i * step / SAMPLE_RATE\n",
    "    excitation_frame = amplitude * np.sin(2 * np.pi * frequency * excitation_time)\n",
    "    data[i * step:i * step + FRAME_SIZE] += excitation_frame * signal.windows.hann(FRAME_SIZE)"
   ]
  },
  {
   "cell_type": "code",
   "execution_count": 8,
   "metadata": {},
   "outputs": [],
   "source": [
    "sf.write('audio.wav', data, SAMPLE_RATE, subtype='FLOAT')"
   ]
  },
  {
   "cell_type": "code",
   "execution_count": 9,
   "metadata": {},
   "outputs": [],
   "source": [
    "duration = 10\n",
    "amplitude = 1\n",
    "frequency = 100\n",
    "total_size = int(SAMPLE_RATE * duration)\n",
    "data = np.array([], dtype=np.float32)\n",
    "excitation_frame = np.zeros((FRAME_SIZE * 3), dtype=np.float32)\n",
    "STEP_SIZE = int(0.5 * FRAME_SIZE)\n",
    "i = 0\n",
    "while i < int(duration / FRAME_TIME):\n",
    "    data = np.append(data, excitation_frame[:FRAME_SIZE])\n",
    "    excitation_frame = np.roll(excitation_frame, -FRAME_SIZE)\n",
    "    excitation_frame[FRAME_SIZE*2:] = np.zeros(FRAME_SIZE, dtype=np.float32)\n",
    "    excitation_time = np.arange(FRAME_SIZE) / SAMPLE_RATE + i * STEP_SIZE / SAMPLE_RATE\n",
    "    i = i + 1\n",
    "    excitation_frame[FRAME_SIZE // 2 + FRAME_SIZE : FRAME_SIZE // 2 + FRAME_SIZE * 2] += amplitude * np.sin(2 * np.pi * frequency * excitation_time) * signal.windows.hann(FRAME_SIZE)\n",
    "    excitation_time = np.arange(FRAME_SIZE) / SAMPLE_RATE + i * STEP_SIZE / SAMPLE_RATE\n",
    "    i = i + 1\n",
    "    excitation_frame[FRAME_SIZE * 2:] += amplitude * np.sin(2 * np.pi * frequency * excitation_time) * signal.windows.hann(FRAME_SIZE)\n"
   ]
  },
  {
   "cell_type": "code",
   "execution_count": 10,
   "metadata": {},
   "outputs": [],
   "source": [
    "sf.write('audio.wav', data, SAMPLE_RATE, subtype='FLOAT')"
   ]
  }
 ],
 "metadata": {
  "interpreter": {
   "hash": "0f4aad36e1a7834f44c14e84b98527cfbefef55e7a336cfec74130d804d73c8f"
  },
  "kernelspec": {
   "display_name": "Python 3.10.4 64-bit",
   "language": "python",
   "name": "python3"
  },
  "language_info": {
   "codemirror_mode": {
    "name": "ipython",
    "version": 3
   },
   "file_extension": ".py",
   "mimetype": "text/x-python",
   "name": "python",
   "nbconvert_exporter": "python",
   "pygments_lexer": "ipython3",
   "version": "3.10.4"
  },
  "orig_nbformat": 4
 },
 "nbformat": 4,
 "nbformat_minor": 2
}
