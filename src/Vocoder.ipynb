{
 "cells": [
  {
   "cell_type": "code",
   "execution_count": 10,
   "id": "e620e86f",
   "metadata": {},
   "outputs": [],
   "source": [
    "from scipy.io import wavfile"
   ]
  },
  {
   "cell_type": "code",
   "execution_count": 62,
   "id": "f94e66c5",
   "metadata": {},
   "outputs": [],
   "source": [
    "from scipy import signal"
   ]
  },
  {
   "cell_type": "code",
   "execution_count": 17,
   "id": "f6026823",
   "metadata": {},
   "outputs": [],
   "source": [
    "import numpy as np"
   ]
  },
  {
   "cell_type": "code",
   "execution_count": 31,
   "id": "76a5f50e",
   "metadata": {},
   "outputs": [],
   "source": [
    "import librosa"
   ]
  },
  {
   "cell_type": "code",
   "execution_count": 64,
   "id": "22d8413c",
   "metadata": {},
   "outputs": [],
   "source": [
    "# General algorithm parameters\n",
    "order = 12"
   ]
  },
  {
   "cell_type": "code",
   "execution_count": 65,
   "id": "74883987",
   "metadata": {},
   "outputs": [],
   "source": [
    "# Open the WAV file used as the voice input\n",
    "fs, x = wavfile.read('voice_1.wav')"
   ]
  },
  {
   "cell_type": "code",
   "execution_count": 66,
   "id": "8d7cc6ae",
   "metadata": {},
   "outputs": [],
   "source": [
    "# Voice Framing\n",
    "# Create data frames of ~ 10ms to ensure local stationarity of the voice,\n",
    "# this way the statistical parameters of the random signal remain the same \n",
    "# under the analysis window.\n",
    "frame_time = 10e-3\n",
    "frame_size = int(fs * frame_time)\n",
    "x_size = len(x)\n",
    "x_frames = librosa.util.frame(\n",
    "    x, \n",
    "    frame_length=int(np.floor(x_size/frame_size)), \n",
    "    hop_length=frame_size\n",
    ")"
   ]
  },
  {
   "cell_type": "code",
   "execution_count": 73,
   "id": "78ad8167",
   "metadata": {},
   "outputs": [],
   "source": [
    "# Short-Time Autocorrelation\n",
    "# Estimate the short-time autocorrelation of the frame\n",
    "rxx = signal.correlate(x_frames[0,:], x_frames[0,:-order-1], method='fft') / len(x)\n",
    "rxx = rxx[len(rxx) // 2 : len(rxx) // 2 + order + 1]"
   ]
  },
  {
   "cell_type": "code",
   "execution_count": 74,
   "id": "e27bf6c7",
   "metadata": {},
   "outputs": [
    {
     "data": {
      "text/plain": [
       "13"
      ]
     },
     "execution_count": 74,
     "metadata": {},
     "output_type": "execute_result"
    }
   ],
   "source": []
  }
 ],
 "metadata": {
  "kernelspec": {
   "display_name": "Python 3 (ipykernel)",
   "language": "python",
   "name": "python3"
  },
  "language_info": {
   "codemirror_mode": {
    "name": "ipython",
    "version": 3
   },
   "file_extension": ".py",
   "mimetype": "text/x-python",
   "name": "python",
   "nbconvert_exporter": "python",
   "pygments_lexer": "ipython3",
   "version": "3.10.0"
  }
 },
 "nbformat": 4,
 "nbformat_minor": 5
}
